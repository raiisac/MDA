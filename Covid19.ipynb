{
 "cells": [
  {
   "cell_type": "markdown",
   "id": "014ce725",
   "metadata": {},
   "source": [
    "# Covid 19 in the USA\n",
    "The NY times has published (and keeps doing so) Covid 19 data for the USA’s territory.\n",
    "\n",
    "The dataset incorporates:\n",
    "\n",
    "- covid 19 cases at county-level\n",
    "\n",
    "- covid 19 cases in prison\n",
    "\n",
    "- covid 19 cases on college and university campuses.\n",
    "\n",
    "\n",
    "Proposed Research Question\n",
    "Starting from [this dataset](https://github.com/nytimes/covid-19-data), provide insight on the evolution of covid 19 in the USA. Note that providing insight is much more that producing a couple of nice charts. We expect to see a data scientist at work."
   ]
  },
  {
   "cell_type": "code",
   "execution_count": 5,
   "id": "3694c6c1",
   "metadata": {},
   "outputs": [
    {
     "data": {
      "text/plain": [
       "'Hello world'"
      ]
     },
     "execution_count": 5,
     "metadata": {},
     "output_type": "execute_result"
    }
   ],
   "source": [
    "\"Hello world\""
   ]
  },
  {
   "cell_type": "code",
   "execution_count": null,
   "id": "f0366ec3",
   "metadata": {},
   "outputs": [
    {
     "data": {
      "text/plain": [
       "2"
      ]
     },
     "metadata": {},
     "output_type": "display_data"
    }
   ],
   "source": [
    "a = 1\n",
    "a+1"
   ]
  }
 ],
 "metadata": {
  "kernelspec": {
   "display_name": "Python 3 (ipykernel)",
   "language": "python",
   "name": "python3"
  },
  "language_info": {
   "codemirror_mode": {
    "name": "ipython",
    "version": 3
   },
   "file_extension": ".py",
   "mimetype": "text/x-python",
   "name": "python",
   "nbconvert_exporter": "python",
   "pygments_lexer": "ipython3",
   "version": "3.9.5"
  },
  "toc": {
   "base_numbering": 1,
   "nav_menu": {},
   "number_sections": true,
   "sideBar": true,
   "skip_h1_title": false,
   "title_cell": "Table of Contents",
   "title_sidebar": "Contents",
   "toc_cell": false,
   "toc_position": {},
   "toc_section_display": true,
   "toc_window_display": false
  }
 },
 "nbformat": 4,
 "nbformat_minor": 5
}
